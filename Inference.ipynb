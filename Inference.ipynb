{
 "cells": [
  {
   "cell_type": "code",
   "execution_count": 6,
   "id": "51577776-46a7-4f26-bb79-1eb32402fbeb",
   "metadata": {},
   "outputs": [],
   "source": [
    "from optimum.intel.openvino import OVModelForCausalLM, OVModelForQuestionAnswering\n",
    "from transformers import AutoTokenizer, pipeline\n",
    "import json"
   ]
  },
  {
   "cell_type": "code",
   "execution_count": 10,
   "id": "27e55ef2-e2a1-4db8-952c-7cd70ccff65e",
   "metadata": {},
   "outputs": [],
   "source": [
    "def load_data(file_path):\n",
    "    with open(file_path, 'r') as file:\n",
    "        data = json.load(file)\n",
    "    return data   "
   ]
  },
  {
   "cell_type": "code",
   "execution_count": 34,
   "id": "929e78df-e116-47eb-918c-525f9b12d614",
   "metadata": {},
   "outputs": [],
   "source": [
    "data = load_data(\"data.json\")"
   ]
  },
  {
   "cell_type": "code",
   "execution_count": 35,
   "id": "73e3d4d6-cf83-4506-8ce0-93574a1d40ec",
   "metadata": {},
   "outputs": [],
   "source": [
    "def text_generation(model_id, text):\n",
    "    tokenizer = AutoTokenizer.from_pretrained(model_id)\n",
    "    model = OVModelForCausalLM.from_pretrained(model_id)\n",
    "    pipe = pipeline(\"text-generation\", model=model, tokenizer=tokenizer, max_length=50, truncation=True)\n",
    "    if len(text) <= 55:\n",
    "        result = pipe(text, max_length=25, do_sample=True, temperature=0.1)\n",
    "    else:\n",
    "        result = pipe(text, max_length=75, do_sample=True, temperature=0.1)\n",
    "    print(result)"
   ]
  },
  {
   "cell_type": "code",
   "execution_count": 36,
   "id": "df8d4b73-341d-4e51-89e4-44a38e24305a",
   "metadata": {},
   "outputs": [
    {
     "name": "stderr",
     "output_type": "stream",
     "text": [
      "Compiling the model to CPU ...\n"
     ]
    },
    {
     "name": "stdout",
     "output_type": "stream",
     "text": [
      "[{'generated_text': 'What is the difference between supervised and unsupervised learning? The supervised learning is a method that uses a set of training examples to train a classifier. The unsupervised learning is a method that uses a set of unseen examples to train a classifier. The supervised learning is a method that uses a set of training examples to train a classifier. The unsuperv'}]\n"
     ]
    },
    {
     "name": "stderr",
     "output_type": "stream",
     "text": [
      "Compiling the model to CPU ...\n"
     ]
    },
    {
     "name": "stdout",
     "output_type": "stream",
     "text": [
      "[{'generated_text': 'Explain the bias-variance tradeoff. The first step is to estimate the bias-variance tradeoff. The second step'}]\n"
     ]
    },
    {
     "name": "stderr",
     "output_type": "stream",
     "text": [
      "Compiling the model to CPU ...\n"
     ]
    },
    {
     "name": "stdout",
     "output_type": "stream",
     "text": [
      "[{'generated_text': 'How does a support vector machine (SVM) work? The SVM is a machine learning algorithm that uses a set of'}]\n"
     ]
    },
    {
     "name": "stderr",
     "output_type": "stream",
     "text": [
      "Compiling the model to CPU ...\n"
     ]
    },
    {
     "name": "stdout",
     "output_type": "stream",
     "text": [
      "[{'generated_text': 'What are the common activation functions used in neural networks? What are the common activation functions used in neural networks? The activation functions are used to represent the input signals in the network. The activation functions are used to represent the input signals in the network. The activation functions are used to represent the input signals in the network. The activation functions are used to represent the input signals in'}]\n"
     ]
    },
    {
     "name": "stderr",
     "output_type": "stream",
     "text": [
      "Compiling the model to CPU ...\n"
     ]
    },
    {
     "name": "stdout",
     "output_type": "stream",
     "text": [
      "[{'generated_text': 'Describe the process of training a neural network. The neural network is trained by using a training set of images. The training'}]\n"
     ]
    },
    {
     "name": "stderr",
     "output_type": "stream",
     "text": [
      "Compiling the model to CPU ...\n"
     ]
    },
    {
     "name": "stdout",
     "output_type": "stream",
     "text": [
      "[{'generated_text': 'What is overfitting, and how can it be prevented?'}]\n"
     ]
    },
    {
     "name": "stderr",
     "output_type": "stream",
     "text": [
      "Compiling the model to CPU ...\n"
     ]
    },
    {
     "name": "stdout",
     "output_type": "stream",
     "text": [
      "[{'generated_text': 'Explain the concept of gradient descent. The gradient descent algorithm is a method of finding the optimal solution of a given problem by'}]\n"
     ]
    },
    {
     "name": "stderr",
     "output_type": "stream",
     "text": [
      "Compiling the model to CPU ...\n"
     ]
    },
    {
     "name": "stdout",
     "output_type": "stream",
     "text": [
      "[{'generated_text': 'How do you handle missing data in a dataset? I have a table with a column that is a date and a column that'}]\n"
     ]
    },
    {
     "name": "stderr",
     "output_type": "stream",
     "text": [
      "Compiling the model to CPU ...\n"
     ]
    },
    {
     "name": "stdout",
     "output_type": "stream",
     "text": [
      "[{'generated_text': 'What is cross-validation, and why is it used? What is the difference between cross-validation and validation? What is the difference'}]\n"
     ]
    },
    {
     "name": "stderr",
     "output_type": "stream",
     "text": [
      "Compiling the model to CPU ...\n"
     ]
    },
    {
     "name": "stdout",
     "output_type": "stream",
     "text": [
      "[{'generated_text': 'What is the purpose of a confusion matrix? It is a matrix that shows the confusion between two words. The confusion matrix is'}]\n"
     ]
    },
    {
     "name": "stderr",
     "output_type": "stream",
     "text": [
      "Compiling the model to CPU ...\n"
     ]
    },
    {
     "name": "stdout",
     "output_type": "stream",
     "text": [
      "[{'generated_text': 'Explain the difference between precision and recall. The precision of a method is the number of times a method is used to solve'}]\n"
     ]
    },
    {
     "name": "stderr",
     "output_type": "stream",
     "text": [
      "Compiling the model to CPU ...\n"
     ]
    },
    {
     "name": "stdout",
     "output_type": "stream",
     "text": [
      "[{'generated_text': 'What are ensemble methods in machine learning? The answer is that they are a powerful tool for learning from large datasets. The ensemble'}]\n"
     ]
    },
    {
     "name": "stderr",
     "output_type": "stream",
     "text": [
      "Compiling the model to CPU ...\n"
     ]
    },
    {
     "name": "stdout",
     "output_type": "stream",
     "text": [
      "[{'generated_text': 'How does the k-nearest neighbors (KNN) algorithm work? The KNN algorithm is a simple and effective method for'}]\n"
     ]
    },
    {
     "name": "stderr",
     "output_type": "stream",
     "text": [
      "Compiling the model to CPU ...\n"
     ]
    },
    {
     "name": "stdout",
     "output_type": "stream",
     "text": [
      "[{'generated_text': 'Describe the use of regularization in machine learning models. The use of regularization in machine learning models is a topic that has been studied in the literature for a long time. The main objective of regularization is to minimize the variance of the data. The variance of the data is the difference between the observed and the predicted values. The variance of the data is usually used'}]\n"
     ]
    },
    {
     "name": "stderr",
     "output_type": "stream",
     "text": [
      "Compiling the model to CPU ...\n"
     ]
    },
    {
     "name": "stdout",
     "output_type": "stream",
     "text": [
      "[{'generated_text': 'What are generative adversarial networks (GANs)? GANs are a class of neural networks that are trained to generate'}]\n"
     ]
    },
    {
     "name": "stderr",
     "output_type": "stream",
     "text": [
      "Compiling the model to CPU ...\n"
     ]
    },
    {
     "name": "stdout",
     "output_type": "stream",
     "text": [
      "[{'generated_text': 'What is transfer learning, and when is it useful? What is transfer learning? What is transfer learning? What is transfer learning'}]\n"
     ]
    },
    {
     "name": "stderr",
     "output_type": "stream",
     "text": [
      "Compiling the model to CPU ...\n"
     ]
    },
    {
     "name": "stdout",
     "output_type": "stream",
     "text": [
      "[{'generated_text': 'How do you evaluate the performance of a classification model? Are there any other factors that could affect the performance of a classification model? What are the advantages and disadvantages of a classification model? How do you evaluate the performance of a classification model? Are there any other factors that could affect the performance of a classification model? What are the advantages and disadvantages of a classification model? How'}]\n"
     ]
    },
    {
     "name": "stderr",
     "output_type": "stream",
     "text": [
      "Compiling the model to CPU ...\n"
     ]
    },
    {
     "name": "stdout",
     "output_type": "stream",
     "text": [
      "[{'generated_text': 'What are some common techniques for feature selection? I have seen some of the following techniques:\\n1. Feature selection based on'}]\n"
     ]
    },
    {
     "name": "stderr",
     "output_type": "stream",
     "text": [
      "Compiling the model to CPU ...\n"
     ]
    },
    {
     "name": "stdout",
     "output_type": "stream",
     "text": [
      "[{'generated_text': 'What is the role of a learning rate in training neural networks? The learning rate is a measure of the speed with which a network learns. It is a measure of the speed with which a network learns. It is a measure of the speed with which a network learns. It is a measure of the speed with which a network learns. It is a measure'}]\n"
     ]
    },
    {
     "name": "stderr",
     "output_type": "stream",
     "text": [
      "Compiling the model to CPU ...\n"
     ]
    },
    {
     "name": "stdout",
     "output_type": "stream",
     "text": [
      "[{'generated_text': 'Explain the difference between bagging and boosting. The bagging method is a method that uses a bag to hold the'}]\n"
     ]
    },
    {
     "name": "stderr",
     "output_type": "stream",
     "text": [
      "Compiling the model to CPU ...\n"
     ]
    },
    {
     "name": "stdout",
     "output_type": "stream",
     "text": [
      "[{'generated_text': 'What are the advantages and disadvantages of decision trees? The main advantage of decision trees is that they are able to handle complex data. The disadvantage is that they are not able to handle complex data. The main disadvantage of decision trees is that they are not able to handle complex data. The main disadvantage of decision trees is that they are not able to handle complex data. The main'}]\n"
     ]
    },
    {
     "name": "stderr",
     "output_type": "stream",
     "text": [
      "Compiling the model to CPU ...\n"
     ]
    },
    {
     "name": "stdout",
     "output_type": "stream",
     "text": [
      "[{'generated_text': 'How can clustering algorithms be evaluated? In this paper, we propose a new clustering algorithm, called K-means, which is'}]\n"
     ]
    },
    {
     "name": "stderr",
     "output_type": "stream",
     "text": [
      "Compiling the model to CPU ...\n"
     ]
    },
    {
     "name": "stdout",
     "output_type": "stream",
     "text": [
      "[{'generated_text': 'What is reinforcement learning, and how does it differ from supervised learning? What are the differences between reinforcement learning and supervised learning? What are the differences between reinforcement learning and supervised learning? What are the differences between reinforcement learning and supervised learning? What are the differences between reinforcement learning and supervised learning? What are the differences between reinforcement'}]\n"
     ]
    }
   ],
   "source": [
    "model_id = \"helenai/bigscience-bloom-560m-ov\"\n",
    "for enter in data['database']:\n",
    "    question = enter.get(\"question\")\n",
    "    text_generation(model_id, question)"
   ]
  },
  {
   "cell_type": "code",
   "execution_count": 37,
   "id": "dcdd7832-2b1e-4331-971c-94b554d3349a",
   "metadata": {},
   "outputs": [],
   "source": [
    "query = load_data(\"data1.json\")"
   ]
  },
  {
   "cell_type": "code",
   "execution_count": 38,
   "id": "6fbc8d0b-4917-482d-a55e-edad19374914",
   "metadata": {},
   "outputs": [],
   "source": [
    "def question_ans(model_id, question, context):\n",
    "    tokenizer = AutoTokenizer.from_pretrained(model_id)\n",
    "    model = OVModelForQuestionAnswering.from_pretrained(model_id)\n",
    "    pipe = pipeline(\"question-answering\", model=model, tokenizer=tokenizer)\n",
    "    result = pipe(question=question, context=context)\n",
    "    print(result)"
   ]
  },
  {
   "cell_type": "code",
   "execution_count": 39,
   "id": "5fa07279-c41e-4aa4-aeff-4873f584f71c",
   "metadata": {},
   "outputs": [
    {
     "name": "stderr",
     "output_type": "stream",
     "text": [
      "Compiling the model to CPU ...\n"
     ]
    },
    {
     "name": "stdout",
     "output_type": "stream",
     "text": [
      "{'score': 0.07265108823776245, 'start': 142, 'end': 176, 'answer': 'training a model on unlabeled data'}\n"
     ]
    },
    {
     "name": "stderr",
     "output_type": "stream",
     "text": [
      "Compiling the model to CPU ...\n"
     ]
    },
    {
     "name": "stdout",
     "output_type": "stream",
     "text": [
      "{'score': 0.36089229583740234, 'start': 30, 'end': 103, 'answer': 'a balance that needs to be achieved when training machine learning models'}\n"
     ]
    },
    {
     "name": "stderr",
     "output_type": "stream",
     "text": [
      "Compiling the model to CPU ...\n"
     ]
    },
    {
     "name": "stdout",
     "output_type": "stream",
     "text": [
      "{'score': 0.14397698640823364, 'start': 275, 'end': 333, 'answer': 'maintain information about previous inputs in the sequence'}\n"
     ]
    },
    {
     "name": "stderr",
     "output_type": "stream",
     "text": [
      "Compiling the model to CPU ...\n"
     ]
    },
    {
     "name": "stdout",
     "output_type": "stream",
     "text": [
      "{'score': 0.36834263801574707, 'start': 251, 'end': 291, 'answer': 'to define the position of the hyperplane'}\n"
     ]
    },
    {
     "name": "stderr",
     "output_type": "stream",
     "text": [
      "Compiling the model to CPU ...\n"
     ]
    },
    {
     "name": "stdout",
     "output_type": "stream",
     "text": [
      "{'score': 0.013071942143142223, 'start': 36, 'end': 55, 'answer': 'Sigmoid, Tanh, ReLU'}\n"
     ]
    },
    {
     "name": "stderr",
     "output_type": "stream",
     "text": [
      "Compiling the model to CPU ...\n"
     ]
    },
    {
     "name": "stdout",
     "output_type": "stream",
     "text": [
      "{'score': 0.03339018300175667, 'start': 172, 'end': 241, 'answer': 'by using techniques such as cross-validation, regularization, pruning'}\n"
     ]
    },
    {
     "name": "stderr",
     "output_type": "stream",
     "text": [
      "Compiling the model to CPU ...\n"
     ]
    },
    {
     "name": "stdout",
     "output_type": "stream",
     "text": [
      "{'score': 0.026715213432908058, 'start': 54, 'end': 107, 'answer': 'minimize the loss function in machine learning models'}\n"
     ]
    },
    {
     "name": "stderr",
     "output_type": "stream",
     "text": [
      "Compiling the model to CPU ...\n"
     ]
    },
    {
     "name": "stdout",
     "output_type": "stream",
     "text": [
      "{'score': 0.13360083103179932, 'start': 37, 'end': 90, 'answer': 'to assess the performance of a machine learning model'}\n"
     ]
    },
    {
     "name": "stderr",
     "output_type": "stream",
     "text": [
      "Compiling the model to CPU ...\n"
     ]
    },
    {
     "name": "stdout",
     "output_type": "stream",
     "text": [
      "{'score': 0.30658620595932007, 'start': 27, 'end': 80, 'answer': 'to evaluate the performance of a classification model'}\n"
     ]
    },
    {
     "name": "stderr",
     "output_type": "stream",
     "text": [
      "Compiling the model to CPU ...\n"
     ]
    },
    {
     "name": "stdout",
     "output_type": "stream",
     "text": [
      "{'score': 0.055428870022296906, 'start': 213, 'end': 224, 'answer': 'sensitivity'}\n"
     ]
    }
   ],
   "source": [
    "model_id = \"helenai/csarron-bert-base-uncased-squad-v1-ov-fp32\"\n",
    "for enter in query['database']:\n",
    "    question = enter.get(\"question\")\n",
    "    answer = enter.get(\"answer\")\n",
    "    question_ans(model_id, question, answer)"
   ]
  },
  {
   "cell_type": "code",
   "execution_count": null,
   "id": "927a4e60-600b-47da-9b41-ee2d09bd8364",
   "metadata": {},
   "outputs": [],
   "source": []
  }
 ],
 "metadata": {
  "kernelspec": {
   "display_name": "Python 3 (ipykernel)",
   "language": "python",
   "name": "python3"
  },
  "language_info": {
   "codemirror_mode": {
    "name": "ipython",
    "version": 3
   },
   "file_extension": ".py",
   "mimetype": "text/x-python",
   "name": "python",
   "nbconvert_exporter": "python",
   "pygments_lexer": "ipython3",
   "version": "3.11.1"
  }
 },
 "nbformat": 4,
 "nbformat_minor": 5
}
